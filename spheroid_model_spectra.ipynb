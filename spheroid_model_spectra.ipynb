{
 "cells": [
  {
   "cell_type": "code",
   "execution_count": 1,
   "id": "c0d2d0d2",
   "metadata": {},
   "outputs": [],
   "source": [
    "# Import libraries\n",
    "import numpy as np\n",
    "import matplotlib.pyplot as plt\n",
    "from numpy.polynomial.legendre import leggauss\n",
    "from functools import lru_cache\n",
    "from scipy.special import eval_legendre, lqmn\n"
   ]
  },
  {
   "cell_type": "markdown",
   "id": "88b0d940",
   "metadata": {},
   "source": [
    "# s-SNOM spectra of the bulk samples\n",
    "This notebook allows users to calculate the near-field spectrum of a bulk homogeneous uniaxial sample **without diving into the full code**.\n",
    "\n",
    "1. **Geometry & Global Constants** – edit spheroid geometry and oscillation parameters.\n",
    "2. **Permittivity Models** – define dielectric functions for the reference material and the sample."
   ]
  },
  {
   "cell_type": "markdown",
   "id": "4daf33dc",
   "metadata": {},
   "source": [
    "## 1. Geometry \n",
    "| Variable | Default | Units | Description |\n",
    "|---------|---------|-------|-------------|\n",
    "| `R` | 25.0 | nm | Tip curvature radius |\n",
    "| `L` | 300.0 | nm | Spheroid length |\n",
    "| `H_MIN_R` | 2.0 | nm | Minimum tip–reference-material gap |\n",
    "| `H_MIN_S` | 2.0 | nm | Minimum tip–sample gap |\n",
    "| `A` | 30.0 | nm | Tip oscillation amplitude |\n"
   ]
  },
  {
   "cell_type": "code",
   "execution_count": 2,
   "id": "688da157",
   "metadata": {},
   "outputs": [],
   "source": [
    "# --- Geometry / global constants ---\n",
    "\n",
    "# tip geometry \n",
    "R = 25.0               # nm\n",
    "L = 600.0              # nm\n",
    "\n",
    "# tip osciallation parameters\n",
    "H_MIN_R = 2.0          # nm\n",
    "H_MIN_S = 2.0          # nm\n",
    "A = 30.0               # nm\n",
    "\n",
    "\n",
    "INCLUDE_FAR_FIELD = True   # ← set True to include the far-field illumination contribution\n",
    "phi_deg = 45                # angle of incidence [degrees] if enabled\n"
   ]
  },
  {
   "cell_type": "markdown",
   "id": "87a7a2bb",
   "metadata": {},
   "source": [
    "## 2. Permittivity Models \n",
    "Set **frequency‑dependent dielectric functions** for:\n",
    "\n",
    "1. **Reference material**, default = the dielectric permittivity of gold around $\\lambda_0=10$ $\\mu$m, which works as a perfect electric conductor, as most metals in mid-IR."
   ]
  },
  {
   "cell_type": "code",
   "execution_count": 3,
   "id": "55996bde",
   "metadata": {},
   "outputs": [],
   "source": [
    "# ---- Reference ----\n",
    "EpsAu_const = -5000.0 + 800.0j  # ε_ref(ω)\n",
    "\n",
    "def eps_ref(omega_cm: float) -> complex:\n",
    "    \"\"\"Reference permittivity ε_ref(ω) in cm^-1.\"\"\"\n",
    "    return EpsAu_const"
   ]
  },
  {
   "cell_type": "markdown",
   "id": "f7243127",
   "metadata": {},
   "source": [
    "2. **Sample material** (tip–sample gap), default = anysotropic 4H‑SiC Lorentz model.\n",
    "\n",
    "   $$\\varepsilon_{par}(\\omega)=\\varepsilon_{\\infty,par}\\left(1+\\frac{\\omega_{LO,par}^2-\\omega_{TO,par}^2}{\\omega_{TO,par}^2-\\omega^2-i\\gamma_{par}\\omega}\\right)$$\n",
    "    $$\\varepsilon_{per}(\\omega)=\\varepsilon_{\\infty,per}\\left(1+\\frac{\\omega_{LO,per}^2-\\omega_{TO,per}^2}{\\omega_{TO,per}^2-\\omega^2-i\\gamma_{per}\\omega}\\right)$$\n",
    "    $$ \\varepsilon_{eff}(\\omega)=\\sqrt{\\varepsilon_{par}(\\omega)\\varepsilon_{per}(\\omega)} $$\n",
    "\n",
    "Modify the functions or constants to study other materials (e.g., Drude metals, tabulated data). For isotropic material $ \\varepsilon_{eff}(\\omega)= \\varepsilon(\\omega)$."
   ]
  },
  {
   "cell_type": "code",
   "execution_count": 4,
   "id": "9966b6ed",
   "metadata": {},
   "outputs": [],
   "source": [
    "# ---- Sample ----\n",
    "Eb_par, Eb_per = 6.78, 6.56\n",
    "wTO_par, wTO_per = 782.0, 797.0\n",
    "wLO_par, wLO_per = 967.0, 971.0\n",
    "gam_par = gam_per = 3.3\n",
    "wp_par,  wp_per  = 220.0, 275.0\n",
    "gamp_par = gamp_per = 450.0\n",
    "\n",
    "def eps_sample(omega_cm: float) -> complex:\n",
    "    ω = omega_cm\n",
    "    eps_per = Eb_per * (1 + (wLO_per**2 - wTO_per**2)/(wTO_per**2 - ω**2 - 1j*gam_per*ω)\n",
    "                        - wp_per**2 / (ω**2 + 1j*ω*gamp_per))\n",
    "    eps_par = Eb_par * (1 + (wLO_par**2 - wTO_par**2)/(wTO_par**2 - ω**2 - 1j*gam_par*ω)\n",
    "                        - wp_par**2 / (ω**2 + 1j*ω*gamp_par))\n",
    "    eps_eff = np.sqrt(eps_par * eps_per)\n",
    "    return eps_eff if np.imag(eps_eff) >= 0 else -eps_eff"
   ]
  },
  {
   "cell_type": "markdown",
   "id": "77fba2c0",
   "metadata": {},
   "source": [
    "## 3. Define wavenumber range and number of points"
   ]
  },
  {
   "cell_type": "code",
   "execution_count": 5,
   "id": "cf8e037f",
   "metadata": {},
   "outputs": [],
   "source": [
    "M = 101 # number of points in the spectrum\n",
    "om = np.linspace(850.0, 1050.0, M)  # cm⁻¹"
   ]
  },
  {
   "cell_type": "markdown",
   "id": "d2f48d78",
   "metadata": {},
   "source": [
    "## 4. Calculation"
   ]
  },
  {
   "cell_type": "code",
   "execution_count": 6,
   "id": "b205d351",
   "metadata": {
    "tags": [
     "hide-input"
    ]
   },
   "outputs": [
    {
     "name": "stdout",
     "output_type": "stream",
     "text": [
      "Building geometry tensors …\n",
      "Sweeping frequencies … (far‑field = True )\n"
     ]
    }
   ],
   "source": [
    "\n",
    "\n",
    "\"\"\"-------------------------------------------------------------------------\n",
    "Spheroid–spectrum simulator  •  far‑field option added\n",
    "-------------------------------------------------------------------------\n",
    "* Computes near‑field tip–sample harmonics (2ω, 3ω, 4ω) for a spheroidal tip.\n",
    "* Reference **and** sample permittivities can vary with frequency.\n",
    "* \"INCLUDE_FAR_FIELD\" (True/False) multiplies the incident field by\n",
    "  the Fresnel factor \"(1 + r_p)^2 sin φ\".\n",
    "\"\"\"\n",
    "\n",
    "\n",
    "##############################################################################\n",
    "# 1. Legendre helpers                                                        #\n",
    "##############################################################################\n",
    "@lru_cache(maxsize=None)\n",
    "def P(n: int, x: float):\n",
    "    return eval_legendre(n, x)\n",
    "\n",
    "@lru_cache(maxsize=None)\n",
    "def Q(n: int, x: float):\n",
    "    return lqmn(0, n, x)[0][0, n]\n",
    "\n",
    "##############################################################################\n",
    "# 2. Geometry & constants                                                    #\n",
    "##############################################################################\n",
    "EPS0 = 8.85418782e-12    # F m⁻¹\n",
    "a=L/2\n",
    "c = np.sqrt(a * (a - R))\n",
    "\n",
    "H0_R = A + H_MIN_R\n",
    "H0_S = A + H_MIN_S\n",
    "\n",
    "E0 = 4 * np.pi * EPS0    # base incident field amplitude\n",
    "EpsT = -1e10             # PEC‑like tip permittivity\n",
    "\n",
    "\n",
    "\n",
    "##############################################################################\n",
    "# 4. Numerical grid                                                          #\n",
    "##############################################################################\n",
    "\n",
    "N = 50\n",
    "m = 20\n",
    "\n",
    "nodes, weights = leggauss(64)\n",
    "P_tab = np.array([eval_legendre(i, nodes) for i in range(m + 1)])\n",
    "\n",
    "##############################################################################\n",
    "# 5. Geometry integrals                                                      #\n",
    "##############################################################################\n",
    "JR = np.zeros((m, m, N + 1), dtype=np.complex128)\n",
    "JS = np.zeros_like(JR)\n",
    "psi_arr = np.pi * np.arange(N + 1) / N\n",
    "\n",
    "def _fill_J(H0: float, J):\n",
    "    for k, psi in enumerate(psi_arr):\n",
    "        H_k = H0 - A * np.cos(psi)\n",
    "        z_shift = 2*a/c + 2*H_k/c\n",
    "        num = z_shift - (a/c)*nodes\n",
    "        base = 1 + num**2 + (a**2/c**2 - 1)*(1 - nodes**2)\n",
    "        rad = np.sqrt((base + np.sqrt(base**2 - 4*num**2))/2)\n",
    "        arg = num / rad\n",
    "        Q_mat = np.array([[Q(j, r) for r in rad] for j in range(m + 1)])\n",
    "        for i in range(1, m + 1):\n",
    "            Pi = P_tab[i]\n",
    "            for j in range(1, m + 1):\n",
    "                J[i-1, j-1, k] = weights @ (Pi * eval_legendre(j, arg) * Q_mat[j])\n",
    "\n",
    "print(\"Building geometry tensors …\")\n",
    "_fill_J(H0_R, JR)\n",
    "_fill_J(H0_S, JS)\n",
    "\n",
    "##############################################################################\n",
    "# 6. Geometry‑only denominators                                              #\n",
    "##############################################################################\n",
    "P_ac = np.array([P(i, a/c) for i in range(m + 1)])\n",
    "Q_ac = np.array([Q(i, a/c) for i in range(m + 1)])\n",
    "\n",
    "denom_i = np.array([\n",
    "    np.nan if i == 0 else (\n",
    "        EpsT*Q_ac[i]/P_ac[i] - (a/c*Q_ac[i]-Q_ac[i-1])/(a/c*P_ac[i]-P_ac[i-1])\n",
    "    ) for i in range(m + 1)\n",
    "], dtype=np.complex128)\n",
    "const_ref = EpsT*Q_ac[1] - a/c*Q_ac[0] + a**2/(a**2 - c**2)\n",
    "\n",
    "##############################################################################\n",
    "# 7. Far‑field Fresnel factor helper                                         #\n",
    "##############################################################################\n",
    "phi = np.deg2rad(phi_deg)\n",
    "cos_phi = np.cos(phi)\n",
    "\n",
    "def fresnel_factor(eps: complex) -> float:\n",
    "    \"\"\"Return |(1 + r_p)^2 sin φ|, where r_p is the p‑polarised Fresnel refl.\"\"\"\n",
    "    if not INCLUDE_FAR_FIELD:\n",
    "        return 1.0\n",
    "    kz1 = cos_phi  # medium 1 = air (n≈1)\n",
    "    kz2 = np.sqrt(eps - np.sin(phi)**2)\n",
    "    rp = (eps/kz2 - 1/kz1) / (eps/kz2 + 1/kz1)\n",
    "    return abs((1 + rp)**2 * np.sin(phi))\n",
    "\n",
    "##############################################################################\n",
    "# 8. Harmonic solver                                                         #\n",
    "##############################################################################\n",
    "\n",
    "def harmonics(beta: complex, J, E_amp: float):\n",
    "    C = np.empty((m, 1), dtype=np.complex128)\n",
    "    acc2 = acc3 = acc4 = 0.0j\n",
    "    for k in range(N + 1):\n",
    "        Mat = np.eye(m, dtype=np.complex128)\n",
    "        Jk = J[:, :, k]\n",
    "        for i in range(1, m + 1):\n",
    "            C[i-1, 0] = -beta*(EpsT-1)**2*c*E_amp/4 * Jk[0, i-1] / (P_ac[i]*const_ref*denom_i[i])\n",
    "            for j in range(1, m + 1):\n",
    "                Mat[i-1, j-1] -= beta*(EpsT-1)*(2*j+1)/2 * Jk[j-1, i-1] / (P_ac[i]*denom_i[i])\n",
    "        U = np.linalg.solve(Mat, C)\n",
    "        pz_k = 2*a*c*U[0,0] - (EpsT-1)*a*c**2*E_amp/3/const_ref\n",
    "        for n, acc in ((2, 'acc2'), (3, 'acc3'), (4, 'acc4')):\n",
    "            coef = np.exp(-1j*np.pi*k*n/N)/(2*N) if k in (0, N) else np.cos(np.pi*k*n/N)/N\n",
    "            if n == 2:\n",
    "                acc2 += pz_k*coef\n",
    "            elif n == 3:\n",
    "                acc3 += pz_k*coef\n",
    "            else:\n",
    "                acc4 += pz_k*coef\n",
    "    return acc2, acc3, acc4\n",
    "\n",
    "##############################################################################\n",
    "# 9. Frequency sweep                                                         #\n",
    "##############################################################################\n",
    "print(\"Sweeping frequencies … (far‑field = {} )\".format(INCLUDE_FAR_FIELD))\n",
    "\n",
    "pz2_ref = np.zeros(M, dtype=np.complex128)\n",
    "pz3_ref = np.zeros(M, dtype=np.complex128)\n",
    "pz4_ref = np.zeros(M, dtype=np.complex128)\n",
    "pz2_sam = np.zeros_like(pz2_ref)\n",
    "pz3_sam = np.zeros_like(pz2_ref)\n",
    "pz4_sam = np.zeros_like(pz2_ref)\n",
    "\n",
    "for idx, w in enumerate(om):\n",
    "    eps_r = eps_ref(w)\n",
    "    eps_s = eps_sample(w)\n",
    "    beta_r = (eps_r - 1)/(eps_r + 1)\n",
    "    beta_s = (eps_s - 1)/(eps_s + 1)\n",
    "    E_r = E0 * fresnel_factor(eps_r)\n",
    "    E_s = E0 * fresnel_factor(eps_s)\n",
    "    pz2_ref[idx], pz3_ref[idx], pz4_ref[idx] = harmonics(beta_r, JR, E_r)\n",
    "    pz2_sam[idx], pz3_sam[idx], pz4_sam[idx] = harmonics(beta_s, JS, E_s)\n",
    "\n"
   ]
  },
  {
   "cell_type": "code",
   "execution_count": 7,
   "id": "503f2627",
   "metadata": {},
   "outputs": [],
   "source": [
    "# 9. Amplitude & phase (unwrap)                                              #\n",
    "\n",
    "\n",
    "Ampl2 = np.abs(pz2_sam / pz2_ref)\n",
    "Ampl3 = np.abs(pz3_sam / pz3_ref)\n",
    "Ampl4 = np.abs(pz4_sam / pz4_ref)\n",
    "\n",
    "Phase2 = np.angle(pz2_sam / pz2_ref)\n",
    "Phase3 = np.angle(pz3_sam / pz3_ref)\n",
    "Phase4 = np.angle(pz4_sam / pz4_ref)\n",
    "\n",
    "for Phase in (Phase2, Phase3, Phase4):\n",
    "    Phase[:] = np.unwrap(Phase)\n",
    "\n"
   ]
  },
  {
   "cell_type": "code",
   "execution_count": 14,
   "id": "420f4885",
   "metadata": {},
   "outputs": [
    {
     "data": {
      "image/png": "[encoded data removed]",
      "text/plain": [
       "<Figure size 1000x400 with 2 Axes>"
      ]
     },
     "metadata": {},
     "output_type": "display_data"
    }
   ],
   "source": [
    "# 10. Plot                                                                   #\n",
    "\n",
    "plt.figure(figsize=(10,4))\n",
    "plt.subplot(1,2,1)\n",
    "plt.plot(om, Ampl2, label='n=2')\n",
    "plt.plot(om, Ampl3, label='n=3')\n",
    "plt.plot(om, Ampl4, label='n=4')\n",
    "plt.xlabel('wavenumber, cm$^{-1}$')\n",
    "plt.ylabel('$|\\sigma_n|$')\n",
    "plt.title('Amplitude spectrum')\n",
    "plt.legend()\n",
    "\n",
    "plt.subplot(1,2,2)\n",
    "plt.plot(om, Phase2, label='n=2')\n",
    "plt.plot(om, Phase3, label='n=3')\n",
    "plt.plot(om, Phase4, label='n=4')\n",
    "plt.xlabel('wavenumber, cm$^{-1}$')\n",
    "plt.ylabel('arg$(\\sigma_n)$, rad')\n",
    "plt.title('Phase spectrum')\n",
    "plt.legend()\n",
    "plt.tight_layout()\n",
    "plt.show()"
   ]
  },
  {
   "cell_type": "code",
   "execution_count": null,
   "id": "2e687523-0f73-44b4-8054-391a462ef62f",
   "metadata": {},
   "outputs": [],
   "source": []
  }
 ],
 "metadata": {
  "jupyter": {
   "celltoolbar": "Tags"
  },
  "kernelspec": {
   "display_name": "Python 3 (ipykernel)",
   "language": "python",
   "name": "python3"
  },
  "language_info": {
   "codemirror_mode": {
    "name": "ipython",
    "version": 3
   },
   "file_extension": ".py",
   "mimetype": "text/x-python",
   "name": "python",
   "nbconvert_exporter": "python",
   "pygments_lexer": "ipython3",
   "version": "3.11.9"
  }
 },
 "nbformat": 4,
 "nbformat_minor": 5
}
